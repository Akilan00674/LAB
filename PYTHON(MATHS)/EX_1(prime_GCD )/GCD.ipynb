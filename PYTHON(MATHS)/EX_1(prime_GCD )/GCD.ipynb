{
 "cells": [
  {
   "cell_type": "markdown",
   "id": "217d4a2c-c867-49cb-8472-35a905ab3b18",
   "metadata": {},
   "source": [
    "## Finding GCD of any two numbers"
   ]
  },
  {
   "cell_type": "code",
   "execution_count": null,
   "id": "899ad649-eba9-4006-9381-9f3cffb73c49",
   "metadata": {},
   "outputs": [],
   "source": [
    "a = int(input(\"Enter the number A = \"))\n",
    "b = int(input(\"Enter the number B = \"))\n",
    "\n",
    "while b != 0:\n",
    "    gcd = a % b\n",
    "    a = b\n",
    "    b = gcd\n",
    "\n",
    "print(\"GCD is:\", a)\n"
   ]
  },
  {
   "cell_type": "code",
   "execution_count": 3,
   "id": "85a3eb0e-2f23-4456-8f73-279582d82eba",
   "metadata": {},
   "outputs": [
    {
     "name": "stdout",
     "output_type": "stream",
     "text": [
      "Enter first number:  24\n",
      "Enter second number:  36\n"
     ]
    },
    {
     "name": "stdout",
     "output_type": "stream",
     "text": [
      "The GCD is 12\n"
     ]
    }
   ],
   "source": [
    "# Input two integers\n",
    "a = int(input(\"Enter first number: \"))\n",
    "b = int(input(\"Enter second number: \"))\n",
    "\n",
    "# Ensure both are positive\n",
    "if a < 0:\n",
    "    a = -a\n",
    "if b < 0:\n",
    "    b = -b\n",
    "\n",
    "# Euclidean Algorithm using only loop and arithmetic\n",
    "while b != 0:\n",
    "    r = a % b\n",
    "    a = b\n",
    "    b = r\n",
    "\n",
    "# Print the GCD\n",
    "print(\"The GCD is\", a)\n"
   ]
  },
  {
   "cell_type": "code",
   "execution_count": 5,
   "id": "27156d31-4e28-430e-972a-038d5e85deab",
   "metadata": {},
   "outputs": [
    {
     "name": "stdout",
     "output_type": "stream",
     "text": [
      "Enter first number:  24\n",
      "Enter second number:  36\n"
     ]
    },
    {
     "name": "stdout",
     "output_type": "stream",
     "text": [
      "The GCD is 12\n"
     ]
    }
   ],
   "source": [
    "import math\n",
    "# Input two numbers\n",
    "a = int(input(\"Enter first number: \"))\n",
    "b = int(input(\"Enter second number: \"))\n",
    "# Using built-in gcd() function\n",
    "gcd = math.gcd(a, b)\n",
    "\n",
    "print(\"The GCD is\", gcd)"
   ]
  }
 ],
 "metadata": {
  "kernelspec": {
   "display_name": ".venv",
   "language": "python",
   "name": "python3"
  },
  "language_info": {
   "codemirror_mode": {
    "name": "ipython",
    "version": 3
   },
   "file_extension": ".py",
   "mimetype": "text/x-python",
   "name": "python",
   "nbconvert_exporter": "python",
   "pygments_lexer": "ipython3",
   "version": "3.13.5"
  }
 },
 "nbformat": 4,
 "nbformat_minor": 5
}
