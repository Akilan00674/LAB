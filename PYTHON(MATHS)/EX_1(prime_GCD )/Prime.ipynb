{
 "cells": [
  {
   "cell_type": "code",
   "execution_count": 1,
   "id": "7f3a7222-bb37-4e4e-8899-2b5a5258d5fa",
   "metadata": {},
   "outputs": [
    {
     "name": "stdin",
     "output_type": "stream",
     "text": [
      "Enter how many prime numbers you want:  10\n"
     ]
    },
    {
     "name": "stdout",
     "output_type": "stream",
     "text": [
      "First 10 prime numbers: [2, 3, 5, 7, 11, 13, 17, 19, 23, 29]\n"
     ]
    }
   ],
   "source": [
    "def is_prime(n):\n",
    "    if n <= 1:\n",
    "        return False\n",
    "    for i in range(2, int(n**0.5) + 1):\n",
    "        if n % i == 0:\n",
    "            return False\n",
    "    return True\n",
    "\n",
    "n = int(input(\"Enter how many prime numbers you want: \"))\n",
    "primes = []\n",
    "i = 2\n",
    "\n",
    "while len(primes) < n:\n",
    "    if is_prime(i):\n",
    "        primes.append(i)\n",
    "    i += 1\n",
    "\n",
    "print(\"First\", n, \"prime numbers:\", primes)\n"
   ]
  },
  {
   "cell_type": "code",
   "execution_count": null,
   "id": "22fd7354-5bb7-4724-9e5e-7249ba934825",
   "metadata": {},
   "outputs": [],
   "source": []
  }
 ],
 "metadata": {
  "kernelspec": {
   "display_name": "Python 3 (ipykernel)",
   "language": "python",
   "name": "python3"
  },
  "language_info": {
   "codemirror_mode": {
    "name": "ipython",
    "version": 3
   },
   "file_extension": ".py",
   "mimetype": "text/x-python",
   "name": "python",
   "nbconvert_exporter": "python",
   "pygments_lexer": "ipython3",
   "version": "3.13.5"
  }
 },
 "nbformat": 4,
 "nbformat_minor": 5
}
