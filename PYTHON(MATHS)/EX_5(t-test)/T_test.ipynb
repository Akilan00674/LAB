{
 "cells": [
  {
   "cell_type": "markdown",
   "id": "d6e1fd94-36a0-4acd-bf6c-c90a677e7a17",
   "metadata": {},
   "source": [
    "## T_Test(One sample T-test)"
   ]
  },
  {
   "cell_type": "code",
   "execution_count": 5,
   "id": "5403e3cc-1c51-4817-871b-88dd70133ef2",
   "metadata": {},
   "outputs": [
    {
     "name": "stdout",
     "output_type": "stream",
     "text": [
      "2.0385887657505077\n",
      "0.07583976294045196\n"
     ]
    }
   ],
   "source": [
    "from scipy import stats\n",
    "\n",
    "data = [70,67,62,68,61,68,70,64,66]\n",
    "popmean = 64\n",
    "\n",
    "t_stat,p_value = stats.ttest_1samp(data,popmean)\n",
    "\n",
    "print(t_stat)\n",
    "print(p_value)\n",
    "\n",
    "\n"
   ]
  },
  {
   "cell_type": "markdown",
   "id": "3e229edb-b1ec-4d3b-a54e-7b79e52074bc",
   "metadata": {},
   "source": [
    "## Independent sample T-test"
   ]
  },
  {
   "cell_type": "code",
   "execution_count": 6,
   "id": "ad054630-ab3a-403a-b484-1ee9b21b2ab0",
   "metadata": {},
   "outputs": [
    {
     "name": "stdout",
     "output_type": "stream",
     "text": [
      "T-statistic: -0.6102781976973535\n",
      "P-value: 0.5471856729525115\n"
     ]
    }
   ],
   "source": [
    "from scipy import stats\n",
    "\n",
    "data1 = [25,32,30,34,24,14,32,24,30,31,35,25]\n",
    "data2 = [44,34,22,10,47,31,40,30,32,35,18,21,35,29,22]\n",
    "\n",
    "t_stat, p_value = stats.ttest_ind(data1, data2)\n",
    "\n",
    "print(\"T-statistic:\", t_stat)\n",
    "\n",
    "print(\"P-value:\", p_value)\n"
   ]
  },
  {
   "cell_type": "code",
   "execution_count": 6,
   "id": "0338d7af-25f0-4673-b8ce-4acff530bf4c",
   "metadata": {},
   "outputs": [
    {
     "name": "stdout",
     "output_type": "stream",
     "text": [
      "\n",
      "=== Statistical Testing Menu ===\n",
      "1. One-Sample T-Test\n",
      "2. Two-Sample Independent T-Test\n",
      "3. Paired Sample T-Test\n",
      "4. Chi-Square Test of Independence\n",
      "5. Chi-Square Goodness of Fit Test\n"
     ]
    },
    {
     "name": "stdin",
     "output_type": "stream",
     "text": [
      "Enter your choice (1-5):  5\n"
     ]
    },
    {
     "name": "stdout",
     "output_type": "stream",
     "text": [
      "\n",
      "Chi-Square Goodness of Fit Test\n"
     ]
    },
    {
     "name": "stdin",
     "output_type": "stream",
     "text": [
      "Enter number of observed categories:  2\n",
      "Observed value for category 1:  10\n",
      "Expected value for category 1:  20\n",
      "Observed value for category 2:  15\n",
      "Expected value for category 2:  16\n"
     ]
    },
    {
     "ename": "ValueError",
     "evalue": "For each axis slice, the sum of the observed frequencies must agree with the sum of the expected frequencies to a relative tolerance of 1.4901161193847656e-08, but the percent differences are:\n0.44",
     "output_type": "error",
     "traceback": [
      "\u001b[1;31m---------------------------------------------------------------------------\u001b[0m",
      "\u001b[1;31mValueError\u001b[0m                                Traceback (most recent call last)",
      "\u001b[1;32m~\\AppData\\Local\\Temp\\ipykernel_1464\\170050473.py\u001b[0m in \u001b[0;36m?\u001b[1;34m()\u001b[0m\n\u001b[0;32m    132\u001b[0m     \u001b[1;32melse\u001b[0m\u001b[1;33m:\u001b[0m\u001b[1;33m\u001b[0m\u001b[1;33m\u001b[0m\u001b[0m\n\u001b[0;32m    133\u001b[0m         \u001b[0mprint\u001b[0m\u001b[1;33m(\u001b[0m\u001b[1;34m\"Invalid choice. Please enter a number from 1 to 5.\"\u001b[0m\u001b[1;33m)\u001b[0m\u001b[1;33m\u001b[0m\u001b[1;33m\u001b[0m\u001b[0m\n\u001b[0;32m    134\u001b[0m \u001b[1;33m\u001b[0m\u001b[0m\n\u001b[0;32m    135\u001b[0m \u001b[1;32mif\u001b[0m \u001b[0m__name__\u001b[0m \u001b[1;33m==\u001b[0m \u001b[1;34m\"__main__\"\u001b[0m\u001b[1;33m:\u001b[0m\u001b[1;33m\u001b[0m\u001b[1;33m\u001b[0m\u001b[0m\n\u001b[1;32m--> 136\u001b[1;33m     \u001b[0mmain_menu\u001b[0m\u001b[1;33m(\u001b[0m\u001b[1;33m)\u001b[0m\u001b[1;33m\u001b[0m\u001b[1;33m\u001b[0m\u001b[0m\n\u001b[0m",
      "\u001b[1;32m~\\AppData\\Local\\Temp\\ipykernel_1464\\170050473.py\u001b[0m in \u001b[0;36m?\u001b[1;34m()\u001b[0m\n\u001b[0;32m    127\u001b[0m         \u001b[0mpaired_sample_test\u001b[0m\u001b[1;33m(\u001b[0m\u001b[1;33m)\u001b[0m\u001b[1;33m\u001b[0m\u001b[1;33m\u001b[0m\u001b[0m\n\u001b[0;32m    128\u001b[0m     \u001b[1;32melif\u001b[0m \u001b[0mchoice\u001b[0m \u001b[1;33m==\u001b[0m \u001b[1;34m'4'\u001b[0m\u001b[1;33m:\u001b[0m\u001b[1;33m\u001b[0m\u001b[1;33m\u001b[0m\u001b[0m\n\u001b[0;32m    129\u001b[0m         \u001b[0mchi_square_independence\u001b[0m\u001b[1;33m(\u001b[0m\u001b[1;33m)\u001b[0m\u001b[1;33m\u001b[0m\u001b[1;33m\u001b[0m\u001b[0m\n\u001b[0;32m    130\u001b[0m     \u001b[1;32melif\u001b[0m \u001b[0mchoice\u001b[0m \u001b[1;33m==\u001b[0m \u001b[1;34m'5'\u001b[0m\u001b[1;33m:\u001b[0m\u001b[1;33m\u001b[0m\u001b[1;33m\u001b[0m\u001b[0m\n\u001b[1;32m--> 131\u001b[1;33m         \u001b[0mchi_square_goodness_of_fit\u001b[0m\u001b[1;33m(\u001b[0m\u001b[1;33m)\u001b[0m\u001b[1;33m\u001b[0m\u001b[1;33m\u001b[0m\u001b[0m\n\u001b[0m\u001b[0;32m    132\u001b[0m     \u001b[1;32melse\u001b[0m\u001b[1;33m:\u001b[0m\u001b[1;33m\u001b[0m\u001b[1;33m\u001b[0m\u001b[0m\n\u001b[0;32m    133\u001b[0m         \u001b[0mprint\u001b[0m\u001b[1;33m(\u001b[0m\u001b[1;34m\"Invalid choice. Please enter a number from 1 to 5.\"\u001b[0m\u001b[1;33m)\u001b[0m\u001b[1;33m\u001b[0m\u001b[1;33m\u001b[0m\u001b[0m\n",
      "\u001b[1;32m~\\AppData\\Local\\Temp\\ipykernel_1464\\170050473.py\u001b[0m in \u001b[0;36m?\u001b[1;34m()\u001b[0m\n\u001b[0;32m     96\u001b[0m         \u001b[0mo\u001b[0m \u001b[1;33m=\u001b[0m \u001b[0mfloat\u001b[0m\u001b[1;33m(\u001b[0m\u001b[0minput\u001b[0m\u001b[1;33m(\u001b[0m\u001b[1;33mf\"\u001b[0m\u001b[1;33mObserved value for category \u001b[0m\u001b[1;33m{\u001b[0m\u001b[0mi\u001b[0m\u001b[1;33m+\u001b[0m\u001b[1;36m1\u001b[0m\u001b[1;33m}\u001b[0m\u001b[1;33m: \u001b[0m\u001b[1;33m\"\u001b[0m\u001b[1;33m)\u001b[0m\u001b[1;33m)\u001b[0m\u001b[1;33m\u001b[0m\u001b[1;33m\u001b[0m\u001b[0m\n\u001b[0;32m     97\u001b[0m         \u001b[0me\u001b[0m \u001b[1;33m=\u001b[0m \u001b[0mfloat\u001b[0m\u001b[1;33m(\u001b[0m\u001b[0minput\u001b[0m\u001b[1;33m(\u001b[0m\u001b[1;33mf\"\u001b[0m\u001b[1;33mExpected value for category \u001b[0m\u001b[1;33m{\u001b[0m\u001b[0mi\u001b[0m\u001b[1;33m+\u001b[0m\u001b[1;36m1\u001b[0m\u001b[1;33m}\u001b[0m\u001b[1;33m: \u001b[0m\u001b[1;33m\"\u001b[0m\u001b[1;33m)\u001b[0m\u001b[1;33m)\u001b[0m\u001b[1;33m\u001b[0m\u001b[1;33m\u001b[0m\u001b[0m\n\u001b[0;32m     98\u001b[0m         \u001b[0mobserved\u001b[0m\u001b[1;33m.\u001b[0m\u001b[0mappend\u001b[0m\u001b[1;33m(\u001b[0m\u001b[0mo\u001b[0m\u001b[1;33m)\u001b[0m\u001b[1;33m\u001b[0m\u001b[1;33m\u001b[0m\u001b[0m\n\u001b[0;32m     99\u001b[0m         \u001b[0mexpected\u001b[0m\u001b[1;33m.\u001b[0m\u001b[0mappend\u001b[0m\u001b[1;33m(\u001b[0m\u001b[0me\u001b[0m\u001b[1;33m)\u001b[0m\u001b[1;33m\u001b[0m\u001b[1;33m\u001b[0m\u001b[0m\n\u001b[1;32m--> 100\u001b[1;33m     \u001b[0mchi2\u001b[0m\u001b[1;33m,\u001b[0m \u001b[0mp\u001b[0m \u001b[1;33m=\u001b[0m \u001b[0mstats\u001b[0m\u001b[1;33m.\u001b[0m\u001b[0mchisquare\u001b[0m\u001b[1;33m(\u001b[0m\u001b[0mf_obs\u001b[0m\u001b[1;33m=\u001b[0m\u001b[0mobserved\u001b[0m\u001b[1;33m,\u001b[0m \u001b[0mf_exp\u001b[0m\u001b[1;33m=\u001b[0m\u001b[0mexpected\u001b[0m\u001b[1;33m)\u001b[0m\u001b[1;33m\u001b[0m\u001b[1;33m\u001b[0m\u001b[0m\n\u001b[0m\u001b[0;32m    101\u001b[0m     \u001b[0mprint\u001b[0m\u001b[1;33m(\u001b[0m\u001b[1;34m\"\\n=== Chi-Square Goodness of Fit Test ===\"\u001b[0m\u001b[1;33m)\u001b[0m\u001b[1;33m\u001b[0m\u001b[1;33m\u001b[0m\u001b[0m\n\u001b[0;32m    102\u001b[0m     \u001b[0mprint\u001b[0m\u001b[1;33m(\u001b[0m\u001b[1;34m\"Observed:\"\u001b[0m\u001b[1;33m,\u001b[0m \u001b[0mobserved\u001b[0m\u001b[1;33m)\u001b[0m\u001b[1;33m\u001b[0m\u001b[1;33m\u001b[0m\u001b[0m\n\u001b[0;32m    103\u001b[0m     \u001b[0mprint\u001b[0m\u001b[1;33m(\u001b[0m\u001b[1;34m\"Expected:\"\u001b[0m\u001b[1;33m,\u001b[0m \u001b[0mexpected\u001b[0m\u001b[1;33m)\u001b[0m\u001b[1;33m\u001b[0m\u001b[1;33m\u001b[0m\u001b[0m\n",
      "\u001b[1;32m~\\anaconda3\\Lib\\site-packages\\scipy\\stats\\_stats_py.py\u001b[0m in \u001b[0;36m?\u001b[1;34m(f_obs, f_exp, ddof, axis, sum_check)\u001b[0m\n\u001b[0;32m   7502\u001b[0m     \u001b[0mPower_divergenceResult\u001b[0m\u001b[1;33m(\u001b[0m\u001b[0mstatistic\u001b[0m\u001b[1;33m=\u001b[0m\u001b[0marray\u001b[0m\u001b[1;33m(\u001b[0m\u001b[1;33m[\u001b[0m\u001b[1;36m3.5\u001b[0m \u001b[1;33m,\u001b[0m \u001b[1;36m9.25\u001b[0m\u001b[1;33m]\u001b[0m\u001b[1;33m)\u001b[0m\u001b[1;33m,\u001b[0m \u001b[0mpvalue\u001b[0m\u001b[1;33m=\u001b[0m\u001b[0marray\u001b[0m\u001b[1;33m(\u001b[0m\u001b[1;33m[\u001b[0m\u001b[1;36m0.62338763\u001b[0m\u001b[1;33m,\u001b[0m \u001b[1;36m0.09949846\u001b[0m\u001b[1;33m]\u001b[0m\u001b[1;33m)\u001b[0m\u001b[1;33m)\u001b[0m\u001b[1;33m\u001b[0m\u001b[1;33m\u001b[0m\u001b[0m\n\u001b[0;32m   7503\u001b[0m \u001b[1;33m\u001b[0m\u001b[0m\n\u001b[0;32m   7504\u001b[0m     \u001b[0mFor\u001b[0m \u001b[0ma\u001b[0m \u001b[0mmore\u001b[0m \u001b[0mdetailed\u001b[0m \u001b[0mexample\u001b[0m\u001b[1;33m,\u001b[0m \u001b[0msee\u001b[0m \u001b[1;33m:\u001b[0m\u001b[0mref\u001b[0m\u001b[1;33m:\u001b[0m\u001b[1;33m`\u001b[0m\u001b[0mhypothesis_chisquare\u001b[0m\u001b[1;33m`\u001b[0m\u001b[1;33m.\u001b[0m\u001b[1;33m\u001b[0m\u001b[1;33m\u001b[0m\u001b[0m\n\u001b[0;32m   7505\u001b[0m     \"\"\"  # noqa: E501\n\u001b[1;32m-> 7506\u001b[1;33m     return _power_divergence(f_obs, f_exp=f_exp, ddof=ddof, axis=axis,\n\u001b[0m\u001b[0;32m   7507\u001b[0m                              \u001b[0mlambda_\u001b[0m\u001b[1;33m=\u001b[0m\u001b[1;34m\"pearson\"\u001b[0m\u001b[1;33m,\u001b[0m \u001b[0msum_check\u001b[0m\u001b[1;33m=\u001b[0m\u001b[0msum_check\u001b[0m\u001b[1;33m)\u001b[0m\u001b[1;33m\u001b[0m\u001b[1;33m\u001b[0m\u001b[0m\n",
      "\u001b[1;32m~\\anaconda3\\Lib\\site-packages\\scipy\\stats\\_stats_py.py\u001b[0m in \u001b[0;36m?\u001b[1;34m(f_obs, f_exp, ddof, axis, lambda_, sum_check)\u001b[0m\n\u001b[0;32m   7318\u001b[0m                        \u001b[1;33mf\"\u001b[0m\u001b[1;33mfrequencies must agree with the sum of the \u001b[0m\u001b[1;33m\"\u001b[0m\u001b[1;33m\u001b[0m\u001b[1;33m\u001b[0m\u001b[0m\n\u001b[0;32m   7319\u001b[0m                        \u001b[1;33mf\"\u001b[0m\u001b[1;33mexpected frequencies to a relative tolerance \u001b[0m\u001b[1;33m\"\u001b[0m\u001b[1;33m\u001b[0m\u001b[1;33m\u001b[0m\u001b[0m\n\u001b[0;32m   7320\u001b[0m                        \u001b[1;33mf\"\u001b[0m\u001b[1;33mof \u001b[0m\u001b[1;33m{\u001b[0m\u001b[0mrtol\u001b[0m\u001b[1;33m}\u001b[0m\u001b[1;33m, but the percent differences are:\\n\u001b[0m\u001b[1;33m\"\u001b[0m\u001b[1;33m\u001b[0m\u001b[1;33m\u001b[0m\u001b[0m\n\u001b[0;32m   7321\u001b[0m                        \u001b[1;33mf\"\u001b[0m\u001b[1;33m{\u001b[0m\u001b[0mrelative_diff\u001b[0m\u001b[1;33m}\u001b[0m\u001b[1;33m\"\u001b[0m\u001b[1;33m)\u001b[0m\u001b[1;33m\u001b[0m\u001b[1;33m\u001b[0m\u001b[0m\n\u001b[1;32m-> 7322\u001b[1;33m                 \u001b[1;32mraise\u001b[0m \u001b[0mValueError\u001b[0m\u001b[1;33m(\u001b[0m\u001b[0mmsg\u001b[0m\u001b[1;33m)\u001b[0m\u001b[1;33m\u001b[0m\u001b[1;33m\u001b[0m\u001b[0m\n\u001b[0m\u001b[0;32m   7323\u001b[0m \u001b[1;33m\u001b[0m\u001b[0m\n\u001b[0;32m   7324\u001b[0m     \u001b[1;32melse\u001b[0m\u001b[1;33m:\u001b[0m\u001b[1;33m\u001b[0m\u001b[1;33m\u001b[0m\u001b[0m\n\u001b[0;32m   7325\u001b[0m         \u001b[1;31m# Ignore 'invalid' errors so the edge case of a data set with length 0\u001b[0m\u001b[1;33m\u001b[0m\u001b[1;33m\u001b[0m\u001b[0m\n",
      "\u001b[1;31mValueError\u001b[0m: For each axis slice, the sum of the observed frequencies must agree with the sum of the expected frequencies to a relative tolerance of 1.4901161193847656e-08, but the percent differences are:\n0.44"
     ]
    }
   ],
   "source": [
    "import numpy as np\n",
    "from scipy import stats\n",
    "\n",
    "def get_list_from_input(prompt):\n",
    "    return list(map(float, input(prompt).strip().split()))\n",
    "\n",
    "def one_sample_test():\n",
    "    data = get_list_from_input(\"Enter sample data (space-separated): \")\n",
    "    popmean = float(input(\"Enter population mean: \"))\n",
    "    alpha = float(input(\"Enter significance level (e.g., 0.05): \"))\n",
    "    \n",
    "    t_stat, p_value = stats.ttest_1samp(data, popmean)\n",
    "\n",
    "    print(\"\\n----- One-Sample T-Test -----\")\n",
    "    print(\"H0: No difference between sample mean and population mean.\")\n",
    "    print(\"H1: There is a significant difference.\")\n",
    "    print(f\"\\nT-Statistic = {t_stat:.4f}\")\n",
    "    print(f\"P-Value = {p_value:.10f}\")\n",
    "    print(f\"Alpha = {alpha}\")\n",
    "    if p_value < alpha:\n",
    "        print(\"Conclusion: Reject H0 → Significant difference found.\")\n",
    "    else:\n",
    "        print(\"Conclusion: Fail to Reject H0 → No significant difference.\")\n",
    "\n",
    "def two_sample_test():\n",
    "    group1 = get_list_from_input(\"Enter data for Group 1 (space-separated): \")\n",
    "    group2 = get_list_from_input(\"Enter data for Group 2 (space-separated): \")\n",
    "    alpha = float(input(\"Enter significance level (e.g., 0.05): \"))\n",
    "\n",
    "    t_stat, p_value = stats.ttest_ind(group1, group2)\n",
    "\n",
    "    print(\"\\n----- Two-Sample Independent T-Test -----\")\n",
    "    print(\"H0: No difference between means of group1 and group2.\")\n",
    "    print(\"H1: There is a significant difference in group means.\")\n",
    "    print(f\"\\nT-Statistic = {t_stat:.4f}\")\n",
    "    print(f\"P-Value = {p_value:.10f}\")\n",
    "    print(f\"Alpha = {alpha}\")\n",
    "    if p_value < alpha:\n",
    "        print(\"Conclusion: Reject H0 → Significant difference between groups.\")\n",
    "    else:\n",
    "        print(\"Conclusion: Fail to Reject H0 → No significant difference.\")\n",
    "\n",
    "def paired_sample_test():\n",
    "    before = get_list_from_input(\"Enter 'before' values (space-separated): \")\n",
    "    after = get_list_from_input(\"Enter 'after' values (space-separated): \")\n",
    "    alpha = float(input(\"Enter significance level (e.g., 0.05): \"))\n",
    "\n",
    "    if len(before) != len(after):\n",
    "        print(\"Error: 'before' and 'after' lists must have the same length.\")\n",
    "        return\n",
    "\n",
    "    t_stat, p_value = stats.ttest_rel(before, after)\n",
    "\n",
    "    print(\"\\n----- Paired T-Test -----\")\n",
    "    print(\"H0: No difference between paired samples (before vs after).\")\n",
    "    print(\"H1: There is a significant difference between pairs.\")\n",
    "    print(f\"\\nT-Statistic = {t_stat:.4f}\")\n",
    "    print(f\"P-Value = {p_value:.10f}\")\n",
    "    print(f\"Alpha = {alpha}\")\n",
    "    if p_value < alpha:\n",
    "        print(\"Conclusion: Reject H0 → Significant difference in paired samples.\")\n",
    "    else:\n",
    "        print(\"Conclusion: Fail to Reject H0 → No significant difference.\")\n",
    "\n",
    "def chi_square_independence():\n",
    "    rows = int(input(\"Number of rows in the table: \"))\n",
    "    cols = int(input(\"Number of columns in the table: \"))\n",
    "    print(f\"Enter the observed frequencies row by row (space-separated, {cols} values each):\")\n",
    "    table = []\n",
    "    for i in range(rows):\n",
    "        row_values = input(f\"Row {i+1}: \").strip().split()\n",
    "        if len(row_values) != cols:\n",
    "            print(\"Incorrect number of values in the row.\")\n",
    "            return\n",
    "        row = [float(x) for x in row_values]\n",
    "        table.append(row)\n",
    "    observed = np.array(table)\n",
    "    chi2, p, dof, expected = stats.chi2_contingency(observed)\n",
    "    print(\"\\n=== Chi-Square Test of Independence ===\")\n",
    "    print(\"Observed:\\n\", observed)\n",
    "    print(\"Expected:\\n\", np.round(expected, 2))\n",
    "    print(f\"Chi-square statistic: {chi2:.4f}\")\n",
    "    print(f\"Degrees of freedom : {dof}\")\n",
    "    print(f\"P-value : {p:.4f}\")\n",
    "    if p < 0.05:\n",
    "        print(\"Result: Reject the null hypothesis (variables are dependent).\")\n",
    "    else:\n",
    "        print(\"Result: Fail to reject the null hypothesis (variables are independent).\")\n",
    "\n",
    "def chi_square_goodness_of_fit():\n",
    "    print(\"\\nChi-Square Goodness of Fit Test\")\n",
    "    n = int(input(\"Enter number of observed categories: \"))\n",
    "    observed = []\n",
    "    expected = []\n",
    "    for i in range(n):\n",
    "        o = float(input(f\"Observed value for category {i+1}: \"))\n",
    "        e = float(input(f\"Expected value for category {i+1}: \"))\n",
    "        observed.append(o)\n",
    "        expected.append(e)\n",
    "    chi2, p = stats.chisquare(f_obs=observed, f_exp=expected)\n",
    "    print(\"\\n=== Chi-Square Goodness of Fit Test ===\")\n",
    "    print(\"Observed:\", observed)\n",
    "    print(\"Expected:\", expected)\n",
    "    print(f\"Chi-square statistic: {chi2:.4f}\")\n",
    "    print(f\"P-value: {p:.4f}\")\n",
    "    if p < 0.05:\n",
    "        print(\"Result: Reject the null hypothesis (observed does not fit expected).\")\n",
    "    else:\n",
    "        print(\"Result: Fail to reject the null hypothesis (observed fits expected well).\")\n",
    "\n",
    "# Master Menu\n",
    "def main_menu():\n",
    "    print(\"\\n=== Statistical Testing Menu ===\")\n",
    "    print(\"1. One-Sample T-Test\")\n",
    "    print(\"2. Two-Sample Independent T-Test\")\n",
    "    print(\"3. Paired Sample T-Test\")\n",
    "    print(\"4. Chi-Square Test of Independence\")\n",
    "    print(\"5. Chi-Square Goodness of Fit Test\")\n",
    "\n",
    "    choice = input(\"Enter your choice (1-5): \")\n",
    "\n",
    "    if choice == '1':\n",
    "        one_sample_test()\n",
    "    elif choice == '2':\n",
    "        two_sample_test()\n",
    "    elif choice == '3':\n",
    "        paired_sample_test()\n",
    "    elif choice == '4':\n",
    "        chi_square_independence()\n",
    "    elif choice == '5':\n",
    "        chi_square_goodness_of_fit()\n",
    "    else:\n",
    "        print(\"Invalid choice. Please enter a number from 1 to 5.\")\n",
    "\n",
    "if __name__ == \"__main__\":\n",
    "    main_menu()\n"
   ]
  },
  {
   "cell_type": "code",
   "execution_count": null,
   "id": "1cb3d7d9-3dd8-4ce2-aab0-c0fa8f65006a",
   "metadata": {},
   "outputs": [],
   "source": []
  }
 ],
 "metadata": {
  "kernelspec": {
   "display_name": "Python [conda env:base] *",
   "language": "python",
   "name": "conda-base-py"
  },
  "language_info": {
   "codemirror_mode": {
    "name": "ipython",
    "version": 3
   },
   "file_extension": ".py",
   "mimetype": "text/x-python",
   "name": "python",
   "nbconvert_exporter": "python",
   "pygments_lexer": "ipython3",
   "version": "3.13.5"
  }
 },
 "nbformat": 4,
 "nbformat_minor": 5
}
